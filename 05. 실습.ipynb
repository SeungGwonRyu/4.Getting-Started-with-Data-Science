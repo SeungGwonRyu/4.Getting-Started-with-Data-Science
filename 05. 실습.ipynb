{
 "cells": [
  {
   "cell_type": "code",
   "execution_count": null,
   "metadata": {},
   "outputs": [],
   "source": [
    "'''아래와 같은 결과가 나오도록 DataFrame을 만들고 출력해 보세요.  \n",
    "column은 name, birthday, occupation 총 3개입니다.\n",
    "\n",
    "name\tbirthday\toccupation\n",
    "0\tTaylor Swift\tDecember 13, 1989\tSinger-songwriter\n",
    "1\tAaron Sorkin\tJune 9, 1961\tScreenwriter\n",
    "2\tHarry Potter\tJuly 31, 1980\tWizard\n",
    "3\tJi-Sung Park\tFebruary 25, 1981\tFootballer\n",
    "'''"
   ]
  },
  {
   "cell_type": "code",
   "execution_count": 5,
   "metadata": {},
   "outputs": [
    {
     "data": {
      "text/html": [
       "<div>\n",
       "<style scoped>\n",
       "    .dataframe tbody tr th:only-of-type {\n",
       "        vertical-align: middle;\n",
       "    }\n",
       "\n",
       "    .dataframe tbody tr th {\n",
       "        vertical-align: top;\n",
       "    }\n",
       "\n",
       "    .dataframe thead th {\n",
       "        text-align: right;\n",
       "    }\n",
       "</style>\n",
       "<table border=\"1\" class=\"dataframe\">\n",
       "  <thead>\n",
       "    <tr style=\"text-align: right;\">\n",
       "      <th></th>\n",
       "      <th>name</th>\n",
       "      <th>birthday</th>\n",
       "      <th>occupation</th>\n",
       "    </tr>\n",
       "  </thead>\n",
       "  <tbody>\n",
       "    <tr>\n",
       "      <th>0</th>\n",
       "      <td>Taylor Swift</td>\n",
       "      <td>December 13, 1989</td>\n",
       "      <td>Singer-songwriter</td>\n",
       "    </tr>\n",
       "    <tr>\n",
       "      <th>1</th>\n",
       "      <td>Aaron Sorkin</td>\n",
       "      <td>June 9, 1961</td>\n",
       "      <td>Screenwriter</td>\n",
       "    </tr>\n",
       "    <tr>\n",
       "      <th>2</th>\n",
       "      <td>Harry Potter</td>\n",
       "      <td>July 31, 1980</td>\n",
       "      <td>Wizard</td>\n",
       "    </tr>\n",
       "    <tr>\n",
       "      <th>3</th>\n",
       "      <td>Ji-Sung Park</td>\n",
       "      <td>February 25, 1981</td>\n",
       "      <td>Footballer</td>\n",
       "    </tr>\n",
       "  </tbody>\n",
       "</table>\n",
       "</div>"
      ],
      "text/plain": [
       "           name           birthday         occupation\n",
       "0  Taylor Swift  December 13, 1989  Singer-songwriter\n",
       "1  Aaron Sorkin       June 9, 1961       Screenwriter\n",
       "2  Harry Potter      July 31, 1980             Wizard\n",
       "3  Ji-Sung Park  February 25, 1981         Footballer"
      ]
     },
     "execution_count": 5,
     "metadata": {},
     "output_type": "execute_result"
    }
   ],
   "source": [
    "import pandas as pd\n",
    "\n",
    "# 여기에 코드를 작성하세요\n",
    "import pandas as pd\n",
    "\n",
    "celebrities = [\n",
    "    ['Taylor Swift', 'December 13, 1989', 'Singer-songwriter'],\n",
    "    ['Aaron Sorkin', 'June 9, 1961', 'Screenwriter'],\n",
    "    ['Harry Potter', 'July 31, 1980', 'Wizard'],\n",
    "    ['Ji-Sung Park', 'February 25, 1981', 'Footballer']\n",
    "]\n",
    "\n",
    "df = pd.DataFrame(celebrities, columns=['name', 'birthday', 'occupation'])\n",
    "\n",
    "# 테스트 코드\n",
    "df"
   ]
  }
 ],
 "metadata": {
  "kernelspec": {
   "display_name": "Python 3",
   "language": "python",
   "name": "python3"
  },
  "language_info": {
   "codemirror_mode": {
    "name": "ipython",
    "version": 3
   },
   "file_extension": ".py",
   "mimetype": "text/x-python",
   "name": "python",
   "nbconvert_exporter": "python",
   "pygments_lexer": "ipython3",
   "version": "3.11.4"
  },
  "orig_nbformat": 4
 },
 "nbformat": 4,
 "nbformat_minor": 2
}
