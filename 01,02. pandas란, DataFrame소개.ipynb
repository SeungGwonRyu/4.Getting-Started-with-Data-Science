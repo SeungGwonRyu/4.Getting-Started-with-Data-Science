{
 "cells": [
  {
   "cell_type": "code",
   "execution_count": null,
   "metadata": {},
   "outputs": [],
   "source": [
    "'''DataFrame 소개 : 2차원 형태의 데이터를 다루기위함\n",
    "표형식의 데이터를 담는 자료형\n",
    "\n",
    "열 : Column 데이터의 특징\n",
    "행 : Row / Index 레코드 ex)사람\n",
    "\n",
    "pandas가 다른 이유 : 일반적인 2차원에 추가적인 기능 \n",
    "numpy : 숫자형 자료형\n",
    "pandas : 다양한 자료형\n",
    "'''"
   ]
  }
 ],
 "metadata": {
  "language_info": {
   "name": "python"
  },
  "orig_nbformat": 4
 },
 "nbformat": 4,
 "nbformat_minor": 2
}
